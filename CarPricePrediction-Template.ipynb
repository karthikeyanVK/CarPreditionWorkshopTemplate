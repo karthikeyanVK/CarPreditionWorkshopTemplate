{
 "cells": [
  {
   "attachments": {},
   "cell_type": "markdown",
   "metadata": {},
   "source": [
    "#                                        <Center> Predicting Car Prices </Center>\n",
    "\n",
    "In this project, we will be predicting car prices using a dataset of car features and prices. We will use a variety of techniques, including data cleaning, exploratory data analysis, feature engineering, and machine learning modeling.\n"
   ]
  },
  {
   "cell_type": "code",
   "execution_count": null,
   "metadata": {},
   "outputs": [],
   "source": [
    "# !pip install pandas\n",
    "# !pip install matplotlib\n",
    "# !pip install seaborn\n",
    "\n",
    "#Import statements\n",
    "import numpy as np\n"
   ]
  },
  {
   "cell_type": "code",
   "execution_count": null,
   "metadata": {},
   "outputs": [],
   "source": [
    "#Load Data\n",
    "\n",
    "#Check the data\n",
    "\n"
   ]
  },
  {
   "cell_type": "code",
   "execution_count": null,
   "metadata": {},
   "outputs": [],
   "source": [
    "#Checking the dimensions of the data\n",
    "df.shape"
   ]
  },
  {
   "cell_type": "code",
   "execution_count": null,
   "metadata": {},
   "outputs": [],
   "source": [
    "# Basic information to dataset\n",
    "df.info()"
   ]
  },
  {
   "cell_type": "code",
   "execution_count": null,
   "metadata": {},
   "outputs": [],
   "source": [
    "#Statistics Analyis of the data\n",
    "df.describe()"
   ]
  },
  {
   "cell_type": "code",
   "execution_count": null,
   "metadata": {},
   "outputs": [],
   "source": [
    "#Get count of missing values in each column\n",
    "df.isnull().sum().to_frame().rename(columns={0:\"Total No. of Missing Values\"})"
   ]
  },
  {
   "cell_type": "code",
   "execution_count": null,
   "metadata": {},
   "outputs": [],
   "source": [
    "#Show categorical variables\n",
    "df.select_dtypes(include=\"object\").head()"
   ]
  },
  {
   "cell_type": "code",
   "execution_count": null,
   "metadata": {},
   "outputs": [],
   "source": [
    "# Show numerical variables.\n",
    "df.select_dtypes(include=[\"int\",\"float\"]).head()"
   ]
  },
  {
   "attachments": {},
   "cell_type": "markdown",
   "metadata": {},
   "source": [
    "## Data Cleaning\n",
    "\n",
    "This involves checking for missing values, outliers, and errors in the data. We will also perform some basic data transformations, such as converting categorical variables to numerical variables, and scaling numerical variables.\n"
   ]
  },
  {
   "cell_type": "code",
   "execution_count": null,
   "metadata": {},
   "outputs": [],
   "source": [
    "#Remove car name from column CompanyName\n",
    "\n",
    "Company_Name = df[\"CarName\"].apply(lambda x: x.split(\" \")[0])\n",
    "df.insert(2,\"CompanyName\",Company_Name)\n",
    "\n",
    "# Now we can drop the CarName Feature.\n",
    "df.drop(columns=[\"CarName\"],inplace=True)"
   ]
  },
  {
   "cell_type": "code",
   "execution_count": null,
   "metadata": {},
   "outputs": [],
   "source": [
    "#Check for spelling mistakes in car company names\n",
    "df[\"CompanyName\"].unique()"
   ]
  },
  {
   "cell_type": "code",
   "execution_count": null,
   "metadata": {},
   "outputs": [],
   "source": [
    "#Fix spelling mistakes in Car company name\n",
    "def replace(a,b):\n",
    "    df[\"CompanyName\"].replace(a,b,inplace=True)\n",
    "\n",
    "replace('maxda','mazda')\n",
    "replace('porcshce','porsche')\n",
    "replace('toyouta','toyota')\n",
    "replace('vokswagen','volkswagen')\n",
    "replace('vw','volkswagen')\n",
    "\n",
    "df[\"CompanyName\"].unique()"
   ]
  },
  {
   "attachments": {},
   "cell_type": "markdown",
   "metadata": {},
   "source": [
    "## Exploratory Data Analysis\n",
    "\n",
    "Next, we will perform exploratory data analysis to understand the relationships between the variables and the target variable (car price). We will use visualization techniques such as scatterplots, histograms, and box plots to explore the data and identify any trends or patterns."
   ]
  },
  {
   "attachments": {},
   "cell_type": "markdown",
   "metadata": {},
   "source": [
    "### Visualizing Car Company w.r.t Price.\n"
   ]
  },
  {
   "cell_type": "code",
   "execution_count": null,
   "metadata": {},
   "outputs": [],
   "source": [
    "#Draw a boxplot and bar graph based on Company name and Avg. Price in x and y axis respectively\n",
    "plt.figure(figsize=(15,6))\n",
    "\n",
    "plt.subplot(1,2,1)\n",
    "sns.boxplot(x=\"CompanyName\",y=\"price\",data=df)\n",
    "plt.xticks(rotation=90)\n",
    "plt.title(\"Car Company vs Price\", pad=10, fontweight=\"black\", fontsize=20)\n",
    "\n",
    "plt.subplot(1,2,2)\n",
    "x = pd.DataFrame(df.groupby(\"CompanyName\")[\"price\"].mean().sort_values(ascending=False))\n",
    "sns.barplot(x=x.index,y=\"price\",data=x) \n",
    "plt.xticks(rotation=90)\n",
    "plt.title(\"Car Company vs Average Price\", pad=10, fontweight=\"black\", fontsize=20)\n",
    "plt.tight_layout()\n",
    "plt.show()"
   ]
  },
  {
   "attachments": {},
   "cell_type": "markdown",
   "metadata": {},
   "source": [
    "\n",
    "\n",
    "Insights\n",
    "\n",
    "    Jaguar & buick seems to have the highest price range cars.\n",
    "    Car companies like Nisaan,Renault & Mercury are having only one to two datapoints.\n",
    "    So we can't make any inference related to lowest price range car companies.\n",
    "\n",
    "Note\n",
    "\n",
    "    Since there are too many categories in car compnay feature. So we can derive a new feature Company Price Range which will show the price range as Low Range, Medium Range, High Range.\n",
    "\n"
   ]
  },
  {
   "attachments": {},
   "cell_type": "markdown",
   "metadata": {},
   "source": [
    "## Feature Engineering\n",
    "\n",
    "Based on our exploratory data analysis, we will perform feature engineering to create new variables that may be useful in predicting car prices. This can include combining existing variables, creating interaction terms, and transforming variables to better capture their relationship with the target variable."
   ]
  },
  {
   "cell_type": "code",
   "execution_count": null,
   "metadata": {},
   "outputs": [],
   "source": [
    "# Deriving New Features From \"Company Name\" Feature.\n",
    "# As we made an insight above that we can split the car company name into different price ranges.Like Low Range, Medium Range, High Range cars.\n",
    "z = round(df.groupby([\"CompanyName\"])[\"price\"].agg([\"mean\"]),2).T\n",
    "z"
   ]
  },
  {
   "cell_type": "code",
   "execution_count": null,
   "metadata": {},
   "outputs": [],
   "source": [
    "df = df.merge(z.T,how=\"left\",on=\"CompanyName\")\n",
    "bins = [0,10000,20000,40000]\n",
    "cars_bin=['Budget','Medium','Highend']\n",
    "df['CarsRange'] = pd.cut(df['mean'],bins,right=False,labels=cars_bin)\n",
    "df.head()"
   ]
  },
  {
   "attachments": {},
   "cell_type": "markdown",
   "metadata": {},
   "source": [
    "## Data Preprocessing\n",
    "\n",
    "Data preprocessing involves preparing the data for analysis by cleaning, transforming, and normalizing it. This can involve steps such as removing missing values, scaling numerical variables, encoding categorical variables, and splitting the data into training and testing sets. "
   ]
  },
  {
   "cell_type": "code",
   "execution_count": null,
   "metadata": {},
   "outputs": [],
   "source": []
  },
  {
   "cell_type": "code",
   "execution_count": null,
   "metadata": {},
   "outputs": [],
   "source": [
    "# Creating new DataFrame with all the useful Features.\n",
    "\n",
    "new_df = df[['fueltype','aspiration','doornumber','carbody','drivewheel','enginetype','cylindernumber','fuelsystem'\n",
    "             ,'wheelbase','carlength','carwidth','curbweight','enginesize','boreratio','horsepower','citympg','highwaympg',\n",
    "             'price','CarsRange']]"
   ]
  },
  {
   "cell_type": "code",
   "execution_count": null,
   "metadata": {},
   "outputs": [],
   "source": [
    "new_df.head()\n"
   ]
  },
  {
   "cell_type": "code",
   "execution_count": null,
   "metadata": {},
   "outputs": [],
   "source": [
    "new_df = pd.get_dummies(columns=[\"fueltype\",\"aspiration\",\"doornumber\",\"carbody\",\"drivewheel\",\"enginetype\",\n",
    "                                \"cylindernumber\",\"fuelsystem\",\"CarsRange\"],data=new_df)"
   ]
  },
  {
   "cell_type": "code",
   "execution_count": null,
   "metadata": {},
   "outputs": [],
   "source": [
    "new_df.head()"
   ]
  },
  {
   "cell_type": "code",
   "execution_count": null,
   "metadata": {},
   "outputs": [],
   "source": [
    "%pip install scikit-learn\n",
    "from sklearn.preprocessing import StandardScaler\n",
    "# Feature Scaling of Numerical Data\n",
    "scaler = StandardScaler()"
   ]
  },
  {
   "cell_type": "code",
   "execution_count": null,
   "metadata": {},
   "outputs": [],
   "source": [
    "num_cols = ['wheelbase','carlength','carwidth','curbweight','enginesize','boreratio','horsepower',\n",
    "            'citympg','highwaympg']\n",
    "\n",
    "new_df[num_cols] = scaler.fit_transform(new_df[num_cols])"
   ]
  },
  {
   "cell_type": "code",
   "execution_count": null,
   "metadata": {},
   "outputs": [],
   "source": [
    "new_df.head()"
   ]
  },
  {
   "cell_type": "code",
   "execution_count": null,
   "metadata": {},
   "outputs": [],
   "source": [
    "# Selecting Features & Labels for Model Training & Testing\n",
    "x = new_df.drop(columns=[\"price\"])\n",
    "y = new_df[\"price\"]"
   ]
  },
  {
   "cell_type": "code",
   "execution_count": null,
   "metadata": {},
   "outputs": [],
   "source": [
    "x.shape,y.shape"
   ]
  },
  {
   "cell_type": "code",
   "execution_count": null,
   "metadata": {},
   "outputs": [],
   "source": [
    "from sklearn.model_selection import train_test_split\n",
    "x_train,x_test,y_train,y_test=train_test_split(x,y,test_size=0.2,random_state=42)\n"
   ]
  },
  {
   "cell_type": "code",
   "execution_count": null,
   "metadata": {},
   "outputs": [],
   "source": [
    "print(\"x_train - >  \",x_train.shape)\n",
    "print(\"x_test - >  \",x_test.shape)\n",
    "print(\"y_train - >  \",y_train.shape)\n",
    "print(\"y_test - >  \",y_test.shape)"
   ]
  },
  {
   "attachments": {},
   "cell_type": "markdown",
   "metadata": {},
   "source": [
    "## Machine Learning Modeling\n",
    "\n",
    "Finally, we will build a machine learning model to predict car prices. We will use a variety of models, such as linear regression, decision trees, and random forests, and evaluate their performance using metrics such as mean squared error and R-squared."
   ]
  },
  {
   "cell_type": "code",
   "execution_count": null,
   "metadata": {},
   "outputs": [],
   "source": [
    "training_score = []\n",
    "testing_score = []"
   ]
  },
  {
   "cell_type": "code",
   "execution_count": null,
   "metadata": {},
   "outputs": [],
   "source": [
    "def model_prediction(model):\n",
    "    model.fit(x_train,y_train)\n",
    "    x_train_pred = model.predict(x_train)\n",
    "    x_test_pred = model.predict(x_test)\n",
    "    a = r2_score(y_train,x_train_pred)*100\n",
    "    b = r2_score(y_test,x_test_pred)*100\n",
    "    training_score.append(a)\n",
    "    testing_score.append(b)\n",
    "    \n",
    "    print(f\"r2_Score of {model} model on Training Data is:\",a)\n",
    "    print(f\"r2_Score of {model} model on Testing Data is:\",b)"
   ]
  },
  {
   "cell_type": "code",
   "execution_count": null,
   "metadata": {},
   "outputs": [],
   "source": [
    "from sklearn.linear_model import LinearRegression\n",
    "from sklearn.metrics import r2_score\n",
    "model_prediction(LinearRegression())"
   ]
  },
  {
   "cell_type": "code",
   "execution_count": null,
   "metadata": {},
   "outputs": [],
   "source": [
    "from sklearn.tree import DecisionTreeRegressor\n",
    "from sklearn.ensemble import RandomForestRegressor, GradientBoostingRegressor, AdaBoostRegressor\n",
    "model_prediction(DecisionTreeRegressor())"
   ]
  },
  {
   "cell_type": "code",
   "execution_count": null,
   "metadata": {},
   "outputs": [],
   "source": [
    "model_prediction(RandomForestRegressor())"
   ]
  },
  {
   "cell_type": "code",
   "execution_count": null,
   "metadata": {},
   "outputs": [],
   "source": [
    "models = [\"Linear Regression\",\"Decision Tree\",\"Random Forest\"]"
   ]
  },
  {
   "cell_type": "code",
   "execution_count": null,
   "metadata": {},
   "outputs": [],
   "source": [
    "df = pd.DataFrame({\"Algorithms\":models,\n",
    "                   \"Training Score\":training_score,\n",
    "                   \"Testing Score\":testing_score})\n",
    "df"
   ]
  }
 ],
 "metadata": {
  "kernelspec": {
   "display_name": "qsharp-env",
   "language": "python",
   "name": "python3"
  },
  "language_info": {
   "codemirror_mode": {
    "name": "ipython",
    "version": 3
   },
   "file_extension": ".py",
   "mimetype": "text/x-python",
   "name": "python",
   "nbconvert_exporter": "python",
   "pygments_lexer": "ipython3",
   "version": "3.10.6"
  },
  "orig_nbformat": 4
 },
 "nbformat": 4,
 "nbformat_minor": 2
}
